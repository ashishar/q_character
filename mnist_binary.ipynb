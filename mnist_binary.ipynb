{
  "cells": [
    {
      "cell_type": "markdown",
      "metadata": {
        "id": "view-in-github",
        "colab_type": "text"
      },
      "source": [
        "<a href=\"https://colab.research.google.com/github/ashishar/q_character/blob/main/mnist_binary.ipynb\" target=\"_parent\"><img src=\"https://colab.research.google.com/assets/colab-badge.svg\" alt=\"Open In Colab\"/></a>"
      ]
    },
    {
      "cell_type": "code",
      "execution_count": 2,
      "id": "6f24bf8a-463f-458e-ab70-3b8c9a85a731",
      "metadata": {
        "tags": [],
        "colab": {
          "base_uri": "https://localhost:8080/"
        },
        "id": "6f24bf8a-463f-458e-ab70-3b8c9a85a731",
        "outputId": "8ee64b11-5c3c-4012-84b0-0463d09455b0"
      },
      "outputs": [
        {
          "output_type": "stream",
          "name": "stdout",
          "text": [
            "torchvision is already installed.\n",
            "qiskit is already installed.\n",
            "qiskit-machine-learning is already installed.\n"
          ]
        }
      ],
      "source": [
        "# !pip install torchvision\n",
        "# !pip install qiskit-machine-learning\n",
        "import importlib\n",
        "\n",
        "# Check if torchvision is installed\n",
        "try:\n",
        "    importlib.import_module('torchvision')\n",
        "    print(\"torchvision is already installed.\")\n",
        "except ImportError:\n",
        "    print(\"torchvision is not installed. Installing...\")\n",
        "    # Install torchvision using pip\n",
        "    try:\n",
        "        import pip\n",
        "        pip.main(['install', 'torchvision'])\n",
        "        print(\"torchvision installed successfully.\")\n",
        "    except Exception as e:\n",
        "        print(\"Error occurred while installing torchvision:\", str(e))\n",
        "\n",
        "try:\n",
        "    importlib.import_module('qiskit')\n",
        "    print(\"qiskit is already installed.\")\n",
        "except ImportError:\n",
        "    print(\"qiskit is not installed. Installing...\")\n",
        "    # Install torchvision using pip\n",
        "    try:\n",
        "        import pip\n",
        "        pip.main(['install', 'qiskit'])\n",
        "        print(\"qiskit installed successfully.\")\n",
        "    except Exception as e:\n",
        "        print(\"Error occurred while installing qiskit:\", str(e))\n",
        "\n",
        "try:\n",
        "    importlib.import_module('qiskit_machine_learning')\n",
        "    print(\"qiskit-machine-learning is already installed.\")\n",
        "except ImportError:\n",
        "    print(\"qiskit-machine-learning is not installed. Installing...\")\n",
        "    # Install torchvision using pip\n",
        "    try:\n",
        "        import pip\n",
        "        pip.main(['install', 'qiskit-machine-learning'])\n",
        "        print(\"qiskit-machine-learning installed successfully.\")\n",
        "    except Exception as e:\n",
        "        print(\"Error occurred while installing qiskit-machine-learning:\", str(e))\n"
      ]
    },
    {
      "cell_type": "code",
      "source": [
        "#!pip install ibm-quantum-widgets\n",
        "#!pip install qiskit-ibm-runtime"
      ],
      "metadata": {
        "id": "eGUd_jsVMCXo"
      },
      "id": "eGUd_jsVMCXo",
      "execution_count": 8,
      "outputs": []
    },
    {
      "cell_type": "code",
      "source": [
        "# Importing standard Qiskit libraries\n",
        "from qiskit import QuantumCircuit, transpile, QuantumRegister\n",
        "from qiskit import ClassicalRegister\n",
        "from qiskit.visualization import *\n",
        "#from ibm_quantum_widgets import *\n",
        "# qiskit-ibmq-provider has been deprecated.\n",
        "# Please see the Migration Guides in https://ibm.biz/provider_migration_guide for more detail.\n",
        "from qiskit_ibm_runtime import QiskitRuntimeService, Sampler, Estimator, Session, Options\n",
        "#!pip install torchvision\n",
        "# Loading your IBM Quantum account(s)\n",
        "service = QiskitRuntimeService(channel=\"ibm_quantum\",token=\"ac2ed7292be38149d3bc59292ead82f040409844bcfac2b607e94d0828ad2abc22088744acde6f229f945c3bbfe1adeabac1ecfbc6aba4da93294e2adcb65385\")\n",
        "\n",
        "# Invoke a primitive. For more details see https://docs.quantum-computing.ibm.com/run/primitives\n",
        "# result = Sampler().run(circuits).result()"
      ],
      "metadata": {
        "colab": {
          "base_uri": "https://localhost:8080/"
        },
        "id": "CRKdq03RLqIb",
        "outputId": "581f0614-045a-4ac7-aaf9-ba02a1efd346"
      },
      "id": "CRKdq03RLqIb",
      "execution_count": 10,
      "outputs": [
        {
          "output_type": "stream",
          "name": "stderr",
          "text": [
            "session._log_request_info:DEBUG:2024-04-14 15:23:19,002: Endpoint: https://auth.quantum-computing.ibm.com/api/version. Method: GET. \n",
            "session._log_request_info:DEBUG:2024-04-14 15:23:19,423: Endpoint: https://auth.quantum-computing.ibm.com/api/users/loginWithToken. Method: POST. \n",
            "session._log_request_info:DEBUG:2024-04-14 15:23:19,877: Endpoint: https://auth.quantum-computing.ibm.com/api/users/me. Method: GET. \n",
            "session._log_request_info:DEBUG:2024-04-14 15:23:20,086: Endpoint: https://api.quantum.ibm.com/api/Network. Method: GET. \n",
            "session._log_request_info:DEBUG:2024-04-14 15:23:20,590: Endpoint: https://api.quantum.ibm.com/runtime/backends. Method: GET. \n",
            "qiskit_runtime_service.__init__:INFO:2024-04-14 15:23:21,370: Default instance: ibm-q/open/main\n"
          ]
        }
      ]
    },
    {
      "cell_type": "code",
      "execution_count": 11,
      "id": "f8b8f4e1-126e-4191-ba40-e91ad8a695b8",
      "metadata": {
        "tags": [],
        "colab": {
          "base_uri": "https://localhost:8080/",
          "height": 350
        },
        "id": "f8b8f4e1-126e-4191-ba40-e91ad8a695b8",
        "outputId": "60c33f9b-58cf-4f49-af1d-361b5b7eb33d"
      },
      "outputs": [
        {
          "output_type": "error",
          "ename": "ModuleNotFoundError",
          "evalue": "No module named 'quantum_circuit_simulator'",
          "traceback": [
            "\u001b[0;31m---------------------------------------------------------------------------\u001b[0m",
            "\u001b[0;31mModuleNotFoundError\u001b[0m                       Traceback (most recent call last)",
            "\u001b[0;32m<ipython-input-11-ff92d61d0e05>\u001b[0m in \u001b[0;36m<cell line: 14>\u001b[0;34m()\u001b[0m\n\u001b[1;32m     12\u001b[0m \u001b[0;34m\u001b[0m\u001b[0m\n\u001b[1;32m     13\u001b[0m \u001b[0;34m\u001b[0m\u001b[0m\n\u001b[0;32m---> 14\u001b[0;31m \u001b[0;32mfrom\u001b[0m \u001b[0mquantum_circuit_simulator\u001b[0m \u001b[0;32mimport\u001b[0m \u001b[0mquantum_circuit\u001b[0m\u001b[0;34m\u001b[0m\u001b[0;34m\u001b[0m\u001b[0m\n\u001b[0m",
            "\u001b[0;31mModuleNotFoundError\u001b[0m: No module named 'quantum_circuit_simulator'",
            "",
            "\u001b[0;31m---------------------------------------------------------------------------\u001b[0;32m\nNOTE: If your import is failing due to a missing package, you can\nmanually install dependencies using either !pip or !apt.\n\nTo view examples of installing some common dependencies, click the\n\"Open Examples\" button below.\n\u001b[0;31m---------------------------------------------------------------------------\u001b[0m\n"
          ],
          "errorDetails": {
            "actions": [
              {
                "action": "open_url",
                "actionText": "Open Examples",
                "url": "/notebooks/snippets/importing_libraries.ipynb"
              }
            ]
          }
        }
      ],
      "source": [
        "import numpy as np\n",
        "import matplotlib.pyplot as plt\n",
        "\n",
        "import time, copy\n",
        "\n",
        "import torch\n",
        "from torch import nn\n",
        "import torch.nn.functional as F\n",
        "from torch.utils.data import DataLoader\n",
        "from torchvision import datasets, transforms\n",
        "from torch.utils.data.dataset import random_split\n",
        "\n",
        "\n",
        "from quantum_circuit_simulator import quantum_circuit"
      ]
    },
    {
      "cell_type": "code",
      "execution_count": null,
      "id": "234dc764-4e78-4d5c-b1ab-5b1b02afc726",
      "metadata": {
        "tags": [],
        "id": "234dc764-4e78-4d5c-b1ab-5b1b02afc726"
      },
      "outputs": [],
      "source": []
    },
    {
      "cell_type": "code",
      "execution_count": null,
      "id": "167c0005-4e7b-46a6-8ad6-36ac8817b461",
      "metadata": {
        "tags": [],
        "id": "167c0005-4e7b-46a6-8ad6-36ac8817b461"
      },
      "outputs": [],
      "source": [
        "# Additional torch-related imports\n",
        "import torch\n",
        "from torch import cat, no_grad, manual_seed\n",
        "from torch.utils.data import DataLoader\n",
        "from torchvision import datasets, transforms\n",
        "import torch.optim as optim\n",
        "from torch.nn import (\n",
        "    Module,\n",
        "    Conv2d,\n",
        "    Linear,\n",
        "    Dropout2d,\n",
        "    NLLLoss,\n",
        "    MaxPool2d,\n",
        "    Flatten,\n",
        "    Sequential,\n",
        "    ReLU,\n",
        "    CrossEntropyLoss\n",
        ")\n",
        "import torch.nn.functional as F\n",
        "from skimage.feature import hog\n",
        "\n"
      ]
    },
    {
      "cell_type": "code",
      "execution_count": null,
      "id": "7969ca12-6a8d-4366-8080-551b61338c00",
      "metadata": {
        "tags": [],
        "id": "7969ca12-6a8d-4366-8080-551b61338c00"
      },
      "outputs": [],
      "source": [
        "# # Set train shuffle seed (for reproducibility)\n",
        "# manual_seed(42)\n",
        "\n",
        "# batch_size = 64\n",
        "# n_samples = 10000  # We will concentrate on the first 100 samples\n",
        "\n",
        "# # Use pre-defined torchvision function to load MNIST train data\n",
        "# X_train = datasets.MNIST(\n",
        "#     root=\"./data\", train=True, download=True, transform=transforms.Compose([transforms.ToTensor()])\n",
        "# )\n",
        "\n",
        "# # Filter out labels (originally 0-9), leaving only labels 0 and 1\n",
        "# idx = np.append(\n",
        "#     np.where(X_train.targets == 9 )[0][:n_samples], np.where(X_train.targets == 8)[0][:n_samples])\n",
        "\n",
        "# idx = np.append(idx, np.where(X_train.targets == 7)[0][:n_samples])\n",
        "# idx = np.append(idx, np.where(X_train.targets == 6)[0][:n_samples])\n",
        "# idx = np.append(idx, np.where(X_train.targets == 5)[0][:n_samples])\n",
        "# idx = np.append(idx, np.where(X_train.targets == 4)[0][:n_samples])\n",
        "# idx = np.append(idx, np.where(X_train.targets == 3)[0][:n_samples])\n",
        "# idx = np.append(idx, np.where(X_train.targets == 2)[0][:n_samples])\n",
        "# idx = np.append(idx, np.where(X_train.targets == 1)[0][:n_samples])\n",
        "# idx = np.append(idx, np.where(X_train.targets == 0)[0][:n_samples])\n",
        "\n",
        "# #,np.where(X_train.targets == 2)[0][:n_samples]\n",
        "\n",
        "\n",
        "# X_train.data = X_train.data[idx]\n",
        "# X_train.targets = X_train.targets[idx]\n",
        "\n",
        "# # Define torch dataloader with filtered data\n",
        "# train_loader = DataLoader(X_train, batch_size=batch_size, shuffle=True)"
      ]
    },
    {
      "cell_type": "code",
      "execution_count": null,
      "id": "144157f0-97f3-494b-8465-dde0036028ce",
      "metadata": {
        "tags": [],
        "id": "144157f0-97f3-494b-8465-dde0036028ce"
      },
      "outputs": [],
      "source": [
        "import torch\n",
        "from torchvision import datasets, transforms\n",
        "from torch.utils.data import DataLoader, SubsetRandomSampler, random_split\n",
        "\n",
        "# Define transformations\n",
        "transform = transforms.Compose([\n",
        "    transforms.ToTensor(),\n",
        "    transforms.Normalize((0.5,), (0.5,))\n",
        "])\n",
        "\n",
        "# Load the MNIST dataset\n",
        "mnist_dataset = datasets.MNIST(root='./data', train=True, download=True, transform=transform)\n",
        "\n",
        "# Split the dataset into training and testing sets\n",
        "train_size = 3000\n",
        "test_size = 1000\n",
        "train_dataset, _ = random_split(mnist_dataset, [train_size, len(mnist_dataset) - train_size])\n",
        "_, test_dataset = random_split(mnist_dataset, [len(mnist_dataset) - test_size, test_size])\n",
        "\n",
        "# Define batch size\n",
        "batch_size = 64\n",
        "\n",
        "# Create DataLoader instances for training and testing sets with random samples\n",
        "train_loader = DataLoader(train_dataset, batch_size=batch_size, sampler=SubsetRandomSampler(range(len(train_dataset))))\n",
        "test_loader = DataLoader(test_dataset, batch_size=batch_size, sampler=SubsetRandomSampler(range(len(test_dataset))))\n",
        "\n",
        "# Load training data and targets into X_train\n",
        "X_train = torch.utils.data.ConcatDataset([data for data, _ in train_loader])\n",
        "X_train.data = X_train[0]\n",
        "X_train.targets = X_train[1]"
      ]
    },
    {
      "cell_type": "code",
      "execution_count": null,
      "id": "0ff5df69-ec22-4fed-bbac-3cc51786160c",
      "metadata": {
        "tags": [],
        "id": "0ff5df69-ec22-4fed-bbac-3cc51786160c"
      },
      "outputs": [],
      "source": [
        "len(X_train)"
      ]
    },
    {
      "cell_type": "code",
      "execution_count": null,
      "id": "5b401f5c-a44f-484c-ba0c-2ca61d83ede9",
      "metadata": {
        "tags": [],
        "id": "5b401f5c-a44f-484c-ba0c-2ca61d83ede9"
      },
      "outputs": [],
      "source": [
        "n_samples_show = 6\n",
        "\n",
        "data_iter = iter(train_loader)\n",
        "fig, axes = plt.subplots(nrows=1, ncols=n_samples_show, figsize=(10, 3))\n",
        "\n",
        "while n_samples_show > 0:\n",
        "    images, targets = data_iter.__next__()\n",
        "\n",
        "    axes[n_samples_show - 1].imshow(images[0, 0].numpy().squeeze(), cmap=\"gray\")\n",
        "    axes[n_samples_show - 1].set_xticks([])\n",
        "    axes[n_samples_show - 1].set_yticks([])\n",
        "    axes[n_samples_show - 1].set_title(\"Labeled: {}\".format(targets[0].item()))\n",
        "\n",
        "    n_samples_show -= 1\n",
        "\n"
      ]
    },
    {
      "cell_type": "code",
      "execution_count": null,
      "id": "32d4522e-debe-4a5b-8e1b-23b916e545bc",
      "metadata": {
        "tags": [],
        "id": "32d4522e-debe-4a5b-8e1b-23b916e545bc"
      },
      "outputs": [],
      "source": [
        "# n_samples = 1000\n",
        "\n",
        "# # Use pre-defined torchvision function to load MNIST test data\n",
        "# X_test = datasets.MNIST(\n",
        "#     root=\"./data\", train=False, download=True, transform=transforms.Compose([transforms.ToTensor()])\n",
        "# )\n",
        "\n",
        "# # Filter out labels (originally 0-9), leaving only labels 0 and 1\n",
        "# idx_test = np.append(\n",
        "#     np.where(X_test.targets == 9)[0][:n_samples], np.where(X_test.targets == 8)[0][:n_samples]\n",
        "# )\n",
        "\n",
        "# idx_test = np.append(idx_test, np.where(X_train.targets == 7)[0][:n_samples])\n",
        "# idx_test = np.append(idx_test, np.where(X_train.targets == 6)[0][:n_samples])\n",
        "# idx_test = np.append(idx_test, np.where(X_train.targets == 5)[0][:n_samples])\n",
        "# idx_test = np.append(idx_test, np.where(X_train.targets == 4)[0][:n_samples])\n",
        "# idx_test = np.append(idx_test, np.where(X_train.targets == 3)[0][:n_samples])\n",
        "# idx_test = np.append(idx_test, np.where(X_train.targets == 2)[0][:n_samples])\n",
        "# idx_test = np.append(idx_test, np.where(X_train.targets == 1)[0][:n_samples])\n",
        "# idx_test = np.append(idx_test, np.where(X_train.targets == 0)[0][:n_samples])\n",
        "\n",
        "\n",
        "# X_test.data = X_test.data[idx_test]\n",
        "# X_test.targets = X_test.targets[idx_test]\n",
        "\n",
        "# # Define torch dataloader with filtered data\n",
        "# test_loader = DataLoader(X_test, batch_size=batch_size, shuffle=True)"
      ]
    },
    {
      "cell_type": "code",
      "execution_count": null,
      "id": "7e5ec1ee-aeda-4dc6-af1f-c45ccc80589d",
      "metadata": {
        "tags": [],
        "id": "7e5ec1ee-aeda-4dc6-af1f-c45ccc80589d"
      },
      "outputs": [],
      "source": [
        "# Define and create QNN\n",
        "def create_qnn(n_qubits):\n",
        "    feature_map = ZZFeatureMap(n_qubits)\n",
        "    ansatz = RealAmplitudes(n_qubits, reps=1)\n",
        "    qc = QuantumCircuit(n_qubits)\n",
        "    qc.compose(feature_map, inplace=True)\n",
        "    qc.compose(ansatz, inplace=True)\n",
        "\n",
        "    # REMEMBER TO SET input_gradients=True FOR ENABLING HYBRID GRADIENT BACKPROP\n",
        "    qnn = EstimatorQNN(\n",
        "        circuit=qc,\n",
        "        input_params=feature_map.parameters,\n",
        "        weight_params=ansatz.parameters,\n",
        "        input_gradients=True,\n",
        "    )\n",
        "    return qnn, qc\n",
        "\n",
        "\n",
        "qnn,qc = create_qnn(30)\n",
        "#qc.draw()\n"
      ]
    },
    {
      "cell_type": "code",
      "execution_count": null,
      "id": "9e50fc7a-092e-437c-8bba-33dacc27130f",
      "metadata": {
        "tags": [],
        "id": "9e50fc7a-092e-437c-8bba-33dacc27130f"
      },
      "outputs": [],
      "source": [
        "# Define torch NN module\n",
        "#layers\n",
        "number_f=5\n",
        "#size\n",
        "input_size = number_f*28+144  # Size of the x-axis projection\n",
        "hidden_size = (number_f+1)*28\n",
        "output_size = 10  # Number of classes (labels)\n",
        "\n",
        "#angle\n",
        "angle1=30\n",
        "angle2=45\n",
        "angle3=60\n",
        "\n",
        "# Define a function to compute HOG features for an image\n",
        "def compute_hog_features(image):\n",
        "    features, _ = hog(image, orientations=9, pixels_per_cell=(8, 8), cells_per_block=(2, 2), visualize=True)\n",
        "\n",
        "    return features\n",
        "\n",
        "class Net(Module):\n",
        "    # def __init__(self, qnn, num_classes=10):\n",
        "    #     super().__init__()\n",
        "    #     self.conv1 = Conv2d(1, 2, kernel_size=5)\n",
        "    #     self.conv2 = Conv2d(2, 16, kernel_size=5)\n",
        "    #     self.dropout = Dropout2d()\n",
        "    #     self.fc1 = Linear(256, 64)\n",
        "    #     self.fc2 = Linear(64, 30)  # 2-dimensional input to QNN\n",
        "    #     #self.qnn = TorchConnector(qnn)  # Apply torch connector, weights chosen\n",
        "    #     # uniformly at random from interval [-1,1].\n",
        "    #     self.fc3 = Linear(30, 10)  # 1-dimensional output from QNN\n",
        "    def __init__(self, qnn, input_size, hidden_size, output_size, num_classes):\n",
        "        super().__init__()\n",
        "        angles = torch.empty((L, n), dtype=torch.float64)\n",
        "        torch.nn.init.uniform_(angles, -0.01, 0.01)\n",
        "        self.angles = torch.nn.Parameter(angles)                   # it makes angles learnable parameters\n",
        "\n",
        "        self.hidden_size = hidden_size\n",
        "        self.fc1 = Linear(input_size,hidden_size)\n",
        "        self.fc2 = Linear(hidden_size, 30)\n",
        "        self.qnn = TorchConnector(qnn)\n",
        "        #self.fc3 = Linear(30, 10)  # 1-dimensional output from QNN\n",
        "        self.fc3 = Linear(hidden_size, output_size)\n",
        "\n",
        "\n",
        "    def forward(self, x):\n",
        "        #x = x.view(x.size(0), -1)\n",
        "        #inputs = inputs.view(-1, 28, 28)  # Reshape input images\n",
        "        # x = torch.sigmoid(self.fc1(inputs))\n",
        "        #x = self.fc2(x)\n",
        "        #x = self.fc2(x)\n",
        "        x = torch.sigmoid(self.fc1(x))\n",
        "        x = torch.sigmoid(self.fc2(x))\n",
        "        x= self.qnn(x)\n",
        "        x = self.fc3(x)\n",
        "        return x\n",
        "\n",
        "#     def __init__(self, qnn, num_classes=10):\n",
        "#         super().__init__()\n",
        "#         self.fc1 = Linear(28*28, 256)  # Flatten input image (28x28) to 784\n",
        "#         self.fc2 = Linear(256, 64)\n",
        "#         self.fc3 = Linear(64, num_classes)\n",
        "\n",
        "#     def forward(self, x):\n",
        "#         x = x.view(x.size(0), -1)  # Flatten input image\n",
        "#         x = F.relu(self.fc1(x))\n",
        "#         x = F.relu(self.fc2(x))\n",
        "#         x = self.fc3(x)\n",
        "#         return x\n",
        "    # def forward(self, x):\n",
        "    #     x = F.relu(self.conv1(x))\n",
        "    #     x = F.max_pool2d(x, 2)\n",
        "    #     x = F.relu(self.conv2(x))\n",
        "    #     x = F.max_pool2d(x, 2)\n",
        "    #     x = self.dropout(x)\n",
        "    #     x = x.view(x.shape[0], -1)\n",
        "    #     x = F.relu(self.fc1(x))\n",
        "    #     x = self.fc2(x)\n",
        "    #     #x = self.qnn(x)  # apply QNN\n",
        "    #     x = self.fc3(x)\n",
        "    #    return x #cat((x, 1 - x), -1)\n",
        "\n",
        "\n",
        "model = Net(qnn,input_size, hidden_size, output_size, num_classes=10)"
      ]
    },
    {
      "cell_type": "code",
      "execution_count": null,
      "id": "56c1f252-297d-41d0-9e12-dcea8a3bf55a",
      "metadata": {
        "tags": [],
        "id": "56c1f252-297d-41d0-9e12-dcea8a3bf55a"
      },
      "outputs": [],
      "source": [
        "# Training phase\n",
        "def train(model, dataloader, criterion, optimizer, epochs=49):\n",
        "    model.train()\n",
        "    loss_list = []\n",
        "    for epoch in range(epochs):\n",
        "        running_loss = 0.0\n",
        "        total_loss = []\n",
        "        for i, (inputs, labels) in enumerate(dataloader, 0):\n",
        "            inputs = inputs.view(-1, 28, 28)  # Reshape input images\n",
        "            x_projection = torch.sum(inputs, dim=1)  # Calculate x-axis projection\n",
        "            #x_projection = x_projection / torch.norm(x_projection, p=1)\n",
        "            #print(\"x_projection \",x_projection)\n",
        "            y_projection = torch.sum(inputs, dim=2)  # Calculate x-axis projection\n",
        "            #y_projection = y_projection / torch.norm(y_projection, p=1)\n",
        "            #angle projection\n",
        "            rotated_images1 = TF.rotate(inputs,angle1)\n",
        "            rotated_images2 = TF.rotate(inputs,angle2)\n",
        "            rotated_images3 = TF.rotate(inputs,angle3)\n",
        "\n",
        "            #rotated projections\n",
        "            rotated_projection1=torch.sum(rotated_images1, dim=2)\n",
        "            rotated_projection2=torch.sum(rotated_images2, dim=2)\n",
        "            rotated_projection3=torch.sum(rotated_images3, dim=2)\n",
        "\n",
        "            #rotated_images = torch.sum(torch.stack([TF.rotate(img, angle) for img in inputs]))\n",
        "            hog_features = [compute_hog_features(image) for image in inputs]\n",
        "\n",
        "            hog_features_tensor = torch.tensor(np.array(hog_features), dtype=torch.float32)\n",
        "            #print(hog_features_tensor.shape)\n",
        "\n",
        "            combined_projection=torch.cat((x_projection, y_projection, rotated_projection1, rotated_projection2,rotated_projection3, hog_features_tensor), dim=1)\n",
        "\n",
        "          #  combined_projection=torch.cat((x_projection, y_projection,rotated_projection1,rotated_projection2,rotated_projection3), dim=1)\n",
        "\n",
        "            #print(combined_projection.shape)\n",
        "            #x_projection = x_projection.view(-1, 28)  # Flatten projection\n",
        "\n",
        "            optimizer.zero_grad()\n",
        "            outputs = model(combined_projection)\n",
        "            loss = criterion(outputs, labels)\n",
        "            loss.backward()\n",
        "            optimizer.step()\n",
        "            running_loss += loss.item()\n",
        "            #print(f\"\\rEpoch: {epoch}, running loss: {running_loss} \", end=\"\")\n",
        "            total_loss.append(loss.item())  # Store loss\n",
        "\n",
        "            if i % 100 == 99:\n",
        "                print(f'Epoch {epoch+1}, Batch {i+1}, Loss: {running_loss / 100:.3f}')\n",
        "                running_loss = 0.0\n",
        "\n",
        "                # Define model, optimizer, and loss function\n",
        "        loss_list.append(sum(total_loss) / len(total_loss))\n",
        "        print(\"Training [{:.0f}%]\\tLoss: {:.4f}\".format(100.0 * (epoch + 1) / epochs, loss_list[-1]))\n",
        "    return loss_list\n",
        "\n",
        "optimizer = optim.Adam(model.parameters(), lr=0.001/100)\n",
        "#criterion = CrossEntropyLoss()#NLLLoss()\n",
        "criterion = CrossEntropyLoss()#NLLLoss()\n",
        "#criterion = FocalLoss(alpha=1, gamma=2, reduction='mean')\n",
        "\n",
        "# # Start training\n",
        "# epochs = 10  # Set number of epochs\n",
        "#loss_list = []  # Store loss history\n",
        "# model5.train()  # Set model to training mode\n",
        "\n",
        "# Train the model\n",
        "loss_list=train(model, train_loader, criterion, optimizer)"
      ]
    },
    {
      "cell_type": "code",
      "execution_count": null,
      "id": "644464ca-742c-4d8d-92f9-3d9dd450c524",
      "metadata": {
        "tags": [],
        "id": "644464ca-742c-4d8d-92f9-3d9dd450c524"
      },
      "outputs": [],
      "source": [
        "# # Define model, optimizer, and loss function\n",
        "# optimizer = optim.Adam(model5.parameters(), lr=0.001)\n",
        "# loss_func = CrossEntropyLoss()#NLLLoss()\n",
        "\n",
        "# # Start training\n",
        "# epochs = 10  # Set number of epochs\n",
        "# loss_list = []  # Store loss history\n",
        "# model5.train()  # Set model to training mode\n",
        "\n",
        "# for epoch in range(epochs):\n",
        "#     total_loss = []\n",
        "#     for batch_idx, (data, target) in enumerate(train_loader):\n",
        "#         optimizer.zero_grad(set_to_none=True)  # Initialize gradient\n",
        "\n",
        "#         output = model5(data)  # Forward pass\n",
        "#         loss = loss_func(output, target)  # Calculate loss\n",
        "#         loss.backward()  # Backward pass\n",
        "#         optimizer.step()  # Optimize weights\n",
        "#         total_loss.append(loss.item())  # Store loss\n",
        "#     loss_list.append(sum(total_loss) / len(total_loss))\n",
        "#     print(\"Training [{:.0f}%]\\tLoss: {:.4f}\".format(100.0 * (epoch + 1) / epochs, loss_list[-1]))"
      ]
    },
    {
      "cell_type": "code",
      "execution_count": null,
      "id": "88febcfd-dbb4-40ca-92ab-f9cd83423326",
      "metadata": {
        "tags": [],
        "id": "88febcfd-dbb4-40ca-92ab-f9cd83423326"
      },
      "outputs": [],
      "source": [
        "# Plot loss convergence\n",
        "plt.plot(loss_list)\n",
        "plt.title(\"QNN Training Convergence\")\n",
        "plt.xlabel(\"Training Iterations\")\n",
        "plt.ylabel(\"Neg. Log Likelihood Loss\")\n",
        "plt.show()"
      ]
    },
    {
      "cell_type": "code",
      "execution_count": null,
      "id": "b110b092-9f75-40ce-8fbd-a16b31b1a201",
      "metadata": {
        "tags": [],
        "id": "b110b092-9f75-40ce-8fbd-a16b31b1a201"
      },
      "outputs": [],
      "source": [
        "# Testing phase\n",
        "criterion = CrossEntropyLoss()\n",
        "\n",
        "def test(model, test_loader, criterion):\n",
        "    model.eval()\n",
        "    correct = 0\n",
        "    total = 0\n",
        "    with torch.no_grad():\n",
        "        for inputs, labels in test_loader:\n",
        "            inputs = inputs.view(-1, 28, 28)  # Reshape input images\n",
        "            #print(inputs.shape)\n",
        "            x_projection = torch.sum(inputs, dim=1)  # Calculate x-axis projection\n",
        "            #x_projection = x_projection / torch.norm(x_projection, p=1)\n",
        "            y_projection = torch.sum(inputs, dim=2)  # Calculate x-axis projection\n",
        "            #y_projection = y_projection / torch.norm(y_projection, p=1)\n",
        "            #angle projection\n",
        "            rotated_images1 = TF.rotate(inputs,angle1)\n",
        "            rotated_images2 = TF.rotate(inputs,angle2)\n",
        "            rotated_images3 = TF.rotate(inputs,angle3)\n",
        "\n",
        "            #rotated projections\n",
        "            rotated_projection1=torch.sum(rotated_images1, dim=2)\n",
        "            rotated_projection2=torch.sum(rotated_images2, dim=2)\n",
        "            rotated_projection3=torch.sum(rotated_images3, dim=2)\n",
        "\n",
        "            #rotated_images = torch.sum(torch.stack([TF.rotate(img, angle) for img in inputs]))\n",
        "            hog_features = [compute_hog_features(image) for image in inputs]\n",
        "            hog_features_tensor = torch.tensor(np.array(hog_features), dtype=torch.float32)\n",
        "\n",
        "            combined_projection=torch.cat((x_projection,y_projection, rotated_projection1,rotated_projection2,rotated_projection3,hog_features_tensor), dim=1)\n",
        "            #print(combined_projection.shape)\n",
        "#             rotated_images = TF.rotate(inputs,angle)\n",
        "#             rotated_projection=torch.sum(rotated_images, dim=2)\n",
        "#             combined_projection=torch.cat((x_projection, y_projection,rotated_projection), dim=1)\n",
        "\n",
        "#             x_projection = torch.sum(inputs, dim=1)  # Calculate x-axis projection\n",
        "#             x_projection = x_projection.view(-1, 28)  # Flatten projection\n",
        "            outputs = model(combined_projection)\n",
        "            _, predicted = torch.max(outputs.data, 1)\n",
        "            #print(predicted-labels)\n",
        "            total += labels.size(0)\n",
        "            correct += (predicted == labels).sum().item()\n",
        "            #print((predicted == labels).sum().item())\n",
        "    print(f'Accuracy on test set: {100 * correct / total:.2f}%')\n",
        "\n",
        "# Test the model\n",
        "test(model, test_loader, criterion)"
      ]
    },
    {
      "cell_type": "code",
      "execution_count": null,
      "id": "8c1864b4-63a1-4698-89e0-f6123a7b90c8",
      "metadata": {
        "tags": [],
        "id": "8c1864b4-63a1-4698-89e0-f6123a7b90c8"
      },
      "outputs": [],
      "source": [
        "model5.eval()  # set model to evaluation mode\n",
        "\n",
        "with no_grad():\n",
        "\n",
        "    correct = 0\n",
        "    for batch_idx, (data, target) in enumerate(test_loader):\n",
        "\n",
        "        output = model5(data)\n",
        "        if len(output.shape) == 1:\n",
        "            output = output.reshape(1, *output.shape)\n",
        "\n",
        "        pred = output.argmax(dim=1, keepdim=True)\n",
        "        correct += pred.eq(target.view_as(pred)).sum().item()\n",
        "\n",
        "        loss = loss_func(output, target)\n",
        "        total_loss.append(loss.item())\n",
        "\n",
        "    print(\n",
        "        \"Performance on test data:\\n\\tLoss: {:.4f}\\n\\tAccuracy: {:.1f}%\".format(\n",
        "            sum(total_loss) / len(total_loss), correct / len(test_loader) / batch_size * 100\n",
        "        )\n",
        "    )"
      ]
    },
    {
      "cell_type": "code",
      "execution_count": null,
      "id": "ffb55a86-a7c3-49bf-bca6-2963e2332d44",
      "metadata": {
        "tags": [],
        "id": "ffb55a86-a7c3-49bf-bca6-2963e2332d44"
      },
      "outputs": [],
      "source": [
        "# Plot predicted labels\n",
        "\n",
        "n_samples_show = 6\n",
        "count = 0\n",
        "fig, axes = plt.subplots(nrows=1, ncols=n_samples_show, figsize=(10, 3))\n",
        "\n",
        "model5.eval()\n",
        "with no_grad():\n",
        "    for batch_idx, (data, target) in enumerate(test_loader):\n",
        "        if count == n_samples_show:\n",
        "            break\n",
        "        output = model5(data[0:1])\n",
        "        if len(output.shape) == 1:\n",
        "            output = output.reshape(1, *output.shape)\n",
        "\n",
        "        pred = output.argmax(dim=1, keepdim=True)\n",
        "\n",
        "        axes[count].imshow(data[0].numpy().squeeze(), cmap=\"gray\")\n",
        "\n",
        "        axes[count].set_xticks([])\n",
        "        axes[count].set_yticks([])\n",
        "        axes[count].set_title(\"Predicted {}\".format(pred.item()))\n",
        "\n",
        "        count += 1"
      ]
    },
    {
      "cell_type": "code",
      "execution_count": null,
      "id": "95bdf180-e19a-4390-bbf6-7a447fe115b4",
      "metadata": {
        "tags": [],
        "id": "95bdf180-e19a-4390-bbf6-7a447fe115b4"
      },
      "outputs": [],
      "source": [
        "#!pip install qiskit-machine-learning\n",
        "#!pip install torchvision\n",
        "\n",
        "import json\n",
        "import matplotlib.pyplot as plt\n",
        "import numpy as np\n",
        "from IPython.display import clear_output\n",
        "from qiskit import QuantumCircuit\n",
        "from qiskit.circuit import ParameterVector\n",
        "from qiskit.circuit.library import ZFeatureMap\n",
        "from qiskit.quantum_info import SparsePauliOp\n",
        "from qiskit_algorithms.optimizers import COBYLA\n",
        "from qiskit_algorithms.utils import algorithm_globals\n",
        "from qiskit_machine_learning.algorithms.classifiers import NeuralNetworkClassifier\n",
        "from qiskit_machine_learning.neural_networks import EstimatorQNN\n",
        "from sklearn.model_selection import train_test_split\n",
        "\n",
        "algorithm_globals.random_seed = 12345"
      ]
    },
    {
      "cell_type": "code",
      "execution_count": null,
      "id": "40e56432-8f9b-40c4-bc3f-96bd012dd87b",
      "metadata": {
        "id": "40e56432-8f9b-40c4-bc3f-96bd012dd87b"
      },
      "outputs": [],
      "source": []
    },
    {
      "cell_type": "code",
      "execution_count": null,
      "id": "1b0e441c-9d2f-4a82-b91c-ec77604bdffe",
      "metadata": {
        "tags": [],
        "id": "1b0e441c-9d2f-4a82-b91c-ec77604bdffe"
      },
      "outputs": [],
      "source": [
        "# We now define a two qubit unitary as defined in [3]\n",
        "def conv_circuit(params):\n",
        "    target = QuantumCircuit(2)\n",
        "    target.rz(-np.pi / 2, 1)\n",
        "    target.cx(1, 0)\n",
        "    target.rz(params[0], 0)\n",
        "    target.ry(params[1], 1)\n",
        "    target.cx(0, 1)\n",
        "    target.ry(params[2], 1)\n",
        "    target.cx(1, 0)\n",
        "    target.rz(np.pi / 2, 0)\n",
        "    return target\n",
        "\n",
        "\n",
        "# Let's draw this circuit and see what it looks like\n",
        "params = ParameterVector(\"θ\", length=3)\n",
        "circuit = conv_circuit(params)\n",
        "circuit.draw(\"mpl\", style=\"clifford\")"
      ]
    },
    {
      "cell_type": "code",
      "execution_count": null,
      "id": "0a1b8d19-0183-4827-bcc2-c53fd2fb1470",
      "metadata": {
        "tags": [],
        "id": "0a1b8d19-0183-4827-bcc2-c53fd2fb1470"
      },
      "outputs": [],
      "source": [
        "def conv_layer(num_qubits, param_prefix):\n",
        "    qc = QuantumCircuit(num_qubits, name=\"Convolutional Layer\")\n",
        "    qubits = list(range(num_qubits))\n",
        "    param_index = 0\n",
        "    params = ParameterVector(param_prefix, length=num_qubits * 3)\n",
        "    for q1, q2 in zip(qubits[0::2], qubits[1::2]):\n",
        "        qc = qc.compose(conv_circuit(params[param_index : (param_index + 3)]), [q1, q2])\n",
        "        qc.barrier()\n",
        "        param_index += 3\n",
        "    for q1, q2 in zip(qubits[1::2], qubits[2::2] + [0]):\n",
        "        qc = qc.compose(conv_circuit(params[param_index : (param_index + 3)]), [q1, q2])\n",
        "        qc.barrier()\n",
        "        param_index += 3\n",
        "\n",
        "    qc_inst = qc.to_instruction()\n",
        "\n",
        "    qc = QuantumCircuit(num_qubits)\n",
        "    qc.append(qc_inst, qubits)\n",
        "    return qc\n",
        "\n",
        "\n",
        "circuit = conv_layer(4, \"θ\")\n",
        "circuit.decompose().draw(\"mpl\", style=\"clifford\")"
      ]
    },
    {
      "cell_type": "code",
      "execution_count": null,
      "id": "1cc95951-236e-4274-8940-3ca036a4e421",
      "metadata": {
        "tags": [],
        "id": "1cc95951-236e-4274-8940-3ca036a4e421"
      },
      "outputs": [],
      "source": [
        "def pool_circuit(params):\n",
        "    target = QuantumCircuit(2)\n",
        "    target.rz(-np.pi / 2, 1)\n",
        "    target.cx(1, 0)\n",
        "    target.rz(params[0], 0)\n",
        "    target.ry(params[1], 1)\n",
        "    target.cx(0, 1)\n",
        "    target.ry(params[2], 1)\n",
        "\n",
        "    return target\n",
        "\n",
        "\n",
        "params = ParameterVector(\"θ\", length=3)\n",
        "circuit = pool_circuit(params)\n",
        "circuit.draw(\"mpl\", style=\"clifford\")"
      ]
    },
    {
      "cell_type": "code",
      "execution_count": null,
      "id": "a551b0d7-057e-4164-9741-85777af3c469",
      "metadata": {
        "tags": [],
        "id": "a551b0d7-057e-4164-9741-85777af3c469"
      },
      "outputs": [],
      "source": [
        "def pool_layer(sources, sinks, param_prefix):\n",
        "    num_qubits = len(sources) + len(sinks)\n",
        "    qc = QuantumCircuit(num_qubits, name=\"Pooling Layer\")\n",
        "    param_index = 0\n",
        "    params = ParameterVector(param_prefix, length=num_qubits // 2 * 3)\n",
        "    for source, sink in zip(sources, sinks):\n",
        "        qc = qc.compose(pool_circuit(params[param_index : (param_index + 3)]), [source, sink])\n",
        "        qc.barrier()\n",
        "        param_index += 3\n",
        "\n",
        "    qc_inst = qc.to_instruction()\n",
        "\n",
        "    qc = QuantumCircuit(num_qubits)\n",
        "    qc.append(qc_inst, range(num_qubits))\n",
        "    return qc\n",
        "\n",
        "\n",
        "sources = [0, 1]\n",
        "sinks = [2, 3]\n",
        "circuit = pool_layer(sources, sinks, \"θ\")\n",
        "circuit.decompose().draw(\"mpl\", style=\"clifford\")"
      ]
    },
    {
      "cell_type": "code",
      "execution_count": null,
      "id": "7e4fc6dc-2b52-4012-93de-faa901344ace",
      "metadata": {
        "tags": [],
        "id": "7e4fc6dc-2b52-4012-93de-faa901344ace"
      },
      "outputs": [],
      "source": [
        "full_train_dataset = MNIST(root='./data', train=True, download=True, transform=transform)\n",
        "full_test_dataset = MNIST(root='./data', train=False, download=True, transform=transform)\n",
        "\n",
        "# Selecting 1000 random samples for training and testing\n",
        "train_indices = np.random.choice(len(full_train_dataset), 1000, replace=False)\n",
        "test_indices = np.random.choice(len(full_test_dataset), 1000, replace=False)\n",
        "\n",
        "train_dataset = Subset(full_train_dataset, train_indices)\n",
        "test_dataset = Subset(full_test_dataset, test_indices)\n",
        "\n",
        "X_test.data = X_test.data[idx]\n",
        "X_test.targets = X_test.targets[idx]\n",
        "\n",
        "train_images=train_dataset.data\n",
        "test_images=test_dataset.data\n",
        "\n",
        "train_labels=train_dataset.targets\n",
        "test_labels= test_dataset.targets\n",
        "\n",
        "# train_images, test_images, train_labels, test_labels = train_test_split(\n",
        "#     images, labels, test_size=0.3, random_state=246)\n",
        "\n"
      ]
    },
    {
      "cell_type": "code",
      "execution_count": null,
      "id": "99a95496-f7a3-43a6-82e5-753e6b1fe06f",
      "metadata": {
        "tags": [],
        "id": "99a95496-f7a3-43a6-82e5-753e6b1fe06f"
      },
      "outputs": [],
      "source": [
        "import torch\n",
        "from torch.autograd import Function\n",
        "import torch.optim as optim\n",
        "import torch.nn as nn\n",
        "import torch.nn.functional as F\n",
        "\n",
        "# if torch.cuda.is_available():\n",
        "#     device = torch.device(\"cuda:0\")\n",
        "#     print(\"Running on the GPU\")\n",
        "# else:\n",
        "#     device = torch.device(\"cpu\")\n",
        "#     print(\"Running on the CPU\")\n",
        "\n",
        "device = torch.device(\"cpu\")"
      ]
    },
    {
      "cell_type": "code",
      "execution_count": null,
      "id": "f0ef91c6-ea0b-4ef5-ac4e-f2e9db6b5550",
      "metadata": {
        "tags": [],
        "id": "f0ef91c6-ea0b-4ef5-ac4e-f2e9db6b5550"
      },
      "outputs": [],
      "source": [
        "from qiskit.circuit import Parameter,ControlledGate\n",
        "import qiskit\n",
        "import numpy as np"
      ]
    },
    {
      "cell_type": "code",
      "execution_count": null,
      "id": "245bd4c4-4109-468a-b0f7-9efb49979fac",
      "metadata": {
        "tags": [],
        "id": "245bd4c4-4109-468a-b0f7-9efb49979fac"
      },
      "outputs": [],
      "source": [
        "from tqdm import tqdm\n"
      ]
    },
    {
      "cell_type": "code",
      "execution_count": null,
      "id": "0e31d930-544f-4d1a-85cd-9079e4a07db8",
      "metadata": {
        "tags": [],
        "id": "0e31d930-544f-4d1a-85cd-9079e4a07db8"
      },
      "outputs": [],
      "source": [
        "from matplotlib import pyplot as plt\n",
        "%matplotlib inline"
      ]
    },
    {
      "cell_type": "code",
      "execution_count": null,
      "id": "bbad77a8-5659-4011-9f1b-75aa3709dbc0",
      "metadata": {
        "tags": [],
        "id": "bbad77a8-5659-4011-9f1b-75aa3709dbc0"
      },
      "outputs": [],
      "source": [
        "from qiskit_ibm_runtime import QiskitRuntimeService\n",
        "service = QiskitRuntimeService()\n",
        "backend = service.get_backend(\"ibmq_qasm_simulator\")\n",
        "\n",
        "np.random.seed = 42\n",
        "\n",
        "NUM_QUBITS = 4\n",
        "NUM_SHOTS = 10000\n",
        "SHIFT = np.pi/2\n",
        "LEARNING_RATE = 0.01\n",
        "MOMENTUM = 0.5\n",
        "SIMULATOR = backend\n"
      ]
    },
    {
      "cell_type": "code",
      "execution_count": null,
      "id": "2dbf99fd-4526-4842-afd7-bf0d6d52fa97",
      "metadata": {
        "tags": [],
        "id": "2dbf99fd-4526-4842-afd7-bf0d6d52fa97"
      },
      "outputs": [],
      "source": [
        "# create list of all possible outputs of quantum circuit (2**NUM_QUBITS possible)\n",
        "import itertools\n",
        "def create_QC_OUTPUTS():\n",
        "    measurements = list(itertools.product([0, 1], repeat=NUM_QUBITS))\n",
        "    return [''.join([str(bit) for bit in measurement]) for measurement in measurements]\n",
        "\n",
        "QC_OUTPUTS = create_QC_OUTPUTS()\n",
        "print(QC_OUTPUTS)"
      ]
    },
    {
      "cell_type": "code",
      "execution_count": null,
      "id": "0925f4fa-7385-488b-b1f5-024c16cde0bf",
      "metadata": {
        "tags": [],
        "id": "0925f4fa-7385-488b-b1f5-024c16cde0bf"
      },
      "outputs": [],
      "source": [
        "class QiskitCircuit():\n",
        "\n",
        "    def __init__(self, n_qubits, backend, shots):\n",
        "        # --- Circuit definition ---\n",
        "        self.circuit = qiskit.QuantumCircuit(n_qubits)\n",
        "        self.n_qubits = n_qubits\n",
        "        self.thetas ={k : Parameter('Theta'+str(k))for k in range(self.n_qubits)}\n",
        "\n",
        "        all_qubits = [i for i in range(n_qubits)]\n",
        "        self.circuit.h(all_qubits)\n",
        "        self.circuit.barrier()\n",
        "        for k in range(n_qubits):\n",
        "            self.circuit.ry(self.thetas[k], k)\n",
        "        self.circuit.barrier()\n",
        "        self.circuit.cx(0,1)\n",
        "        self.circuit.cx(2,3)\n",
        "        self.circuit.cx(1,2)\n",
        "        self.circuit.barrier()\n",
        "        for k in range(n_qubits):\n",
        "            self.circuit.ry(self.thetas[k], k)\n",
        "        self.circuit.barrier()\n",
        "        self.circuit.cx(0,1)\n",
        "        self.circuit.cx(2,3)\n",
        "        self.circuit.cx(1,2)\n",
        "        self.circuit.barrier()\n",
        "#         # Apply controlled-unitary\n",
        "# #         uc=ry(self.theta4, 4).to_gate().control(4)\n",
        "# #         self.circuit.append(uc, [0,1,2,3,4])\n",
        "#         self.circuit.ry(self.theta4, 4).to_gate().control(4)\n",
        "\n",
        "        self.circuit.measure_all()\n",
        "        # ---------------------------\n",
        "\n",
        "        self.backend = backend\n",
        "        self.shots = shots\n",
        "\n",
        "#             check = perc\n",
        "#             for i in range(nr_qubits):\n",
        "#                 check *= (float(key[i])-1/2)*2\n",
        "#             expects += check\n",
        "\n",
        "    def N_qubit_expectation_Z(self,counts, shots, nr_qubits):\n",
        "        expects = np.zeros(len(QC_OUTPUTS))\n",
        "        for k in range(len(QC_OUTPUTS)):\n",
        "            key = QC_OUTPUTS[k]\n",
        "            perc = counts.get(key, 0) /shots\n",
        "            expects[k] = perc\n",
        "        return expects\n",
        "\n",
        "    def run(self, i):\n",
        "        params = i\n",
        "#         print('params = {}'.format(len(params)))\n",
        "        backend = SIMULATOR\n",
        "\n",
        "        job_sim = execute(self.circuit,\n",
        "                              self.backend,\n",
        "                              shots=self.shots,\n",
        "                              parameter_binds = [{self.thetas[k] : params[k].item() for k in range(NUM_QUBITS)}])\n",
        "#\n",
        "        result_sim = job_sim.result()\n",
        "        counts = result_sim.get_counts(self.circuit)\n",
        "        return self.N_qubit_expectation_Z(counts,self.shots,NUM_QUBITS)"
      ]
    },
    {
      "cell_type": "code",
      "execution_count": null,
      "id": "088a0181-78df-4fdd-9246-4a7c0418db39",
      "metadata": {
        "tags": [],
        "id": "088a0181-78df-4fdd-9246-4a7c0418db39"
      },
      "outputs": [],
      "source": [
        "circuit = QiskitCircuit(NUM_QUBITS, SIMULATOR, NUM_SHOTS)\n",
        "print('Expected value for rotation [pi/4]: {}'.format(circuit.run(torch.Tensor([np.pi/4]*NUM_QUBITS))))\n",
        "circuit.circuit.draw(output='mpl', filename='Figures/{}-qubit circuit ryN.jpg'.format(NUM_QUBITS))"
      ]
    },
    {
      "cell_type": "code",
      "execution_count": null,
      "id": "e83c0706-44e8-4e5e-bc0d-5351678fd291",
      "metadata": {
        "tags": [],
        "id": "e83c0706-44e8-4e5e-bc0d-5351678fd291"
      },
      "outputs": [],
      "source": [
        "from torchvision.datasets import MNIST\n",
        "from torch.utils.data import DataLoader\n",
        "from torchvision import transforms\n",
        "\n",
        "class BinarizeTransform:\n",
        "    def __call__(self, image):\n",
        "        image = image.view(-1)\n",
        "        return torch.as_tensor((image > 0.5).long())\n",
        "\n",
        "train_data = MNIST(root=\"./data\", train=True, download=True, transform=transforms.Compose([\n",
        "    transforms.ToTensor(),\n",
        "    BinarizeTransform()\n",
        "]))\n",
        "\n",
        "test_data = MNIST(root=\"./data\", train=False, download=True, transform=transforms.Compose([\n",
        "    transforms.ToTensor(),\n",
        "    BinarizeTransform()\n",
        "]))\n",
        "\n",
        "# Create separate dataloaders\n",
        "train_loader = DataLoader(train_data, batch_size=1000, shuffle=True)\n",
        "test_loader = DataLoader(test_data, batch_size=1000)"
      ]
    },
    {
      "cell_type": "code",
      "execution_count": null,
      "id": "6dbb0c10-0627-4a7e-962c-0775a0ab2061",
      "metadata": {
        "id": "6dbb0c10-0627-4a7e-962c-0775a0ab2061"
      },
      "outputs": [],
      "source": []
    },
    {
      "cell_type": "code",
      "execution_count": null,
      "id": "0c570c61-b9e5-4ab4-94ae-87dcab87d86f",
      "metadata": {
        "tags": [],
        "id": "0c570c61-b9e5-4ab4-94ae-87dcab87d86f"
      },
      "outputs": [],
      "source": [
        "# Get a mini-batch of images and labels\n",
        "train_batch, train_labels = next(iter(train_loader))\n",
        "test_batch, test_labels = next(iter(test_loader))\n",
        "\n",
        "# Convert to NumPy arrays and display using a loop\n",
        "import matplotlib.pyplot as plt\n",
        "\n",
        "plt.imshow(train_batch, cmap=\"gray\")  # Adjust cmap for color images\n",
        "plt.show()\n"
      ]
    },
    {
      "cell_type": "code",
      "execution_count": null,
      "id": "99516445-d947-4cfb-aa24-91c51562ef2b",
      "metadata": {
        "tags": [],
        "id": "99516445-d947-4cfb-aa24-91c51562ef2b"
      },
      "outputs": [],
      "source": [
        "# Convert to NumPy array\n",
        "import random\n",
        "import time\n",
        "\n",
        "for i in range(0,1):\n",
        "    n=random.randint(0,1000)\n",
        "    image_numpy = train_batch[n].view(-1,28,28).squeeze().cpu().numpy()\n",
        "\n",
        "# Display the image\n",
        "    plt.imshow(image_numpy, cmap=\"gray\")\n",
        "    plt.show()\n",
        "    time.sleep(0.1)"
      ]
    },
    {
      "cell_type": "code",
      "execution_count": null,
      "id": "78a3af41-28da-4c33-90e7-083a743e7788",
      "metadata": {
        "tags": [],
        "id": "78a3af41-28da-4c33-90e7-083a743e7788"
      },
      "outputs": [],
      "source": [
        "x_location = QuantumRegister(10,\"x_register\")\n",
        "mnist_value= QuantumRegister(1,\"mnist_value\")\n",
        "\n",
        "c_register=ClassicalRegister(1,\"c_0\")\n",
        "\n",
        "mnist_circuit=QuantumCircuit(x_location,mnist_value,c_register)"
      ]
    },
    {
      "cell_type": "code",
      "execution_count": null,
      "id": "3ade2157-820c-4922-b48e-f12266d88209",
      "metadata": {
        "tags": [],
        "id": "3ade2157-820c-4922-b48e-f12266d88209"
      },
      "outputs": [],
      "source": [
        "\n",
        "def dectobin(decimal_number):\n",
        "    remainders = []\n",
        "\n",
        "    while decimal_number > 0:\n",
        "        remainder = decimal_number % 2\n",
        "        remainders.append(str(remainder))\n",
        "        decimal_number //= 2\n",
        "\n",
        "    binary_string = \"\".join(remainders[::-1])  # Reverse the list and join\n",
        "\n",
        "    return binary_string  # Output: 101010\n",
        "\n",
        "def decimal_to_binary_n_digits_masked(decimal_number, n_digits):\n",
        "    binary_value = 0\n",
        "    mask = 1 << (n_digits - 1)  # Create a mask with 1 in the highest bit position\n",
        "\n",
        "    for i in range(n_digits):\n",
        "        if decimal_number & mask:\n",
        "            binary_value |= 1 << (n_digits - 1 - i)  # Set corresponding bit in the value\n",
        "            mask >>= 1  # Shift mask to the right\n",
        "\n",
        "#     string = \"\"\n",
        "#     for i in range(0, len(binary_string), 8):\n",
        "#         chunk = binary_string[i:i+8]\n",
        "#         decimal_value = int(chunk, 2)  # Convert binary chunk to decimal\n",
        "#         character = chr(decimal_value)  # Convert decimal to ASCII character\n",
        "#         string += character\n",
        "\n",
        "    return f\"{binary_value:0{n_digits}b}\"  # Format with leading zeros"
      ]
    },
    {
      "cell_type": "code",
      "execution_count": null,
      "id": "7cfff5bf-a3ce-4ad5-8ec3-e4b561768ac6",
      "metadata": {
        "tags": [],
        "id": "7cfff5bf-a3ce-4ad5-8ec3-e4b561768ac6"
      },
      "outputs": [],
      "source": [
        "def encode_circuit(sample_matrix,mnist_circuit):\n",
        "    for index in range(len(sample_matrix)):\n",
        "\n",
        "        if(sample_matrix[index]==1):\n",
        "            mnist_circuit.cx([0],[index])\n",
        "            print(\"cx \")\n",
        "    return mnist_circuit"
      ]
    },
    {
      "cell_type": "code",
      "execution_count": null,
      "id": "24b221ed-f8dd-4e72-af7b-35d68bd5ee86",
      "metadata": {
        "tags": [],
        "id": "24b221ed-f8dd-4e72-af7b-35d68bd5ee86"
      },
      "outputs": [],
      "source": [
        "for i in range(0,1):\n",
        "    n=random.randint(0,1000)\n",
        "    sample_matrix= train_batch[n].squeeze().cpu().numpy()\n",
        "\n",
        "    #print(sample_matrix)\n",
        "\n",
        "    mnist_circuit=encode_circuit(sample_matrix,mnist_circuit)\n",
        "\n",
        "mnist_circuit.draw('mpl')"
      ]
    },
    {
      "cell_type": "code",
      "execution_count": null,
      "id": "04c13960-d5b5-4197-83ce-cc83af241d3a",
      "metadata": {
        "id": "04c13960-d5b5-4197-83ce-cc83af241d3a"
      },
      "outputs": [],
      "source": [
        "#             #print(dectobin(row), dectobin(col), pixel_value)\n",
        "#             binary_string_row = decimal_to_binary_n_digits_masked(row, n_digits)\n",
        "#             binary_string_col = decimal_to_binary_n_digits_masked(col, n_digits)\n",
        "\n",
        "#             #print(f\"{decimal_number} in binary (n={n_digits}): {binary_string}\")  # Output: 42 in binary (n=6): 001010\n",
        "\n",
        "#             print(binary_string_row,binary_string_col)\n",
        "#             for x_index in range(5):\n",
        "#                 if(binary_string_row[x_index]==1):\n",
        "#                     mnist_circuit.x([x_index])\n",
        "#             for y_index in range(5):\n",
        "#                 if(binary_string_col[y_index]==1):\n",
        "#                     mnist_circuit.x([y_index+4])\n",
        "\n",
        "#             # for y_index in range(5):\n",
        "#             #     if(binary_string_col[y_index]==1):\n",
        "#             #         mnist_circuit.x(qr[y_index+4])\n",
        "\n",
        "#             mnist_circuit.draw('mpl')"
      ]
    }
  ],
  "metadata": {
    "kernelspec": {
      "display_name": "Python 3",
      "name": "python3"
    },
    "language_info": {
      "codemirror_mode": {
        "name": "ipython",
        "version": 3
      },
      "file_extension": ".py",
      "mimetype": "text/x-python",
      "name": "python",
      "nbconvert_exporter": "python",
      "pygments_lexer": "ipython3",
      "version": "3.10.8"
    },
    "colab": {
      "provenance": [],
      "gpuType": "T4",
      "include_colab_link": true
    },
    "accelerator": "GPU"
  },
  "nbformat": 4,
  "nbformat_minor": 5
}